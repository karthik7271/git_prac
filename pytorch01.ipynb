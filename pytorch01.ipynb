{
  "nbformat": 4,
  "nbformat_minor": 0,
  "metadata": {
    "colab": {
      "provenance": [],
      "gpuType": "T4"
    },
    "kernelspec": {
      "name": "python3",
      "display_name": "Python 3"
    },
    "language_info": {
      "name": "python"
    },
    "accelerator": "GPU"
  },
  "cells": [
    {
      "cell_type": "code",
      "execution_count": 2,
      "metadata": {
        "colab": {
          "base_uri": "https://localhost:8080/"
        },
        "id": "Rkjgd8o0z02w",
        "outputId": "ccb62b04-5057-4b33-f33e-b1588ac0cd29"
      },
      "outputs": [
        {
          "output_type": "stream",
          "name": "stdout",
          "text": [
            "Sun Jan 19 15:22:24 2025       \n",
            "+---------------------------------------------------------------------------------------+\n",
            "| NVIDIA-SMI 535.104.05             Driver Version: 535.104.05   CUDA Version: 12.2     |\n",
            "|-----------------------------------------+----------------------+----------------------+\n",
            "| GPU  Name                 Persistence-M | Bus-Id        Disp.A | Volatile Uncorr. ECC |\n",
            "| Fan  Temp   Perf          Pwr:Usage/Cap |         Memory-Usage | GPU-Util  Compute M. |\n",
            "|                                         |                      |               MIG M. |\n",
            "|=========================================+======================+======================|\n",
            "|   0  Tesla T4                       Off | 00000000:00:04.0 Off |                    0 |\n",
            "| N/A   42C    P8              12W /  70W |      0MiB / 15360MiB |      0%      Default |\n",
            "|                                         |                      |                  N/A |\n",
            "+-----------------------------------------+----------------------+----------------------+\n",
            "                                                                                         \n",
            "+---------------------------------------------------------------------------------------+\n",
            "| Processes:                                                                            |\n",
            "|  GPU   GI   CI        PID   Type   Process name                            GPU Memory |\n",
            "|        ID   ID                                                             Usage      |\n",
            "|=======================================================================================|\n",
            "|  No running processes found                                                           |\n",
            "+---------------------------------------------------------------------------------------+\n"
          ]
        }
      ],
      "source": [
        "!nvidia-smi"
      ]
    },
    {
      "cell_type": "code",
      "source": [
        "## DATA\n",
        "import sklearn\n",
        "from sklearn.datasets import make_circles\n",
        "\n",
        "n_samples=1000\n",
        "x,y=make_circles(n_samples,noise=0.03,random_state=35)"
      ],
      "metadata": {
        "id": "SFt5RWP8082_"
      },
      "execution_count": 3,
      "outputs": []
    },
    {
      "cell_type": "code",
      "source": [
        "print(x)"
      ],
      "metadata": {
        "colab": {
          "base_uri": "https://localhost:8080/"
        },
        "id": "T9LBKgtL080s",
        "outputId": "738af5d8-b8b5-46ef-ed29-5d86e2f3a480"
      },
      "execution_count": 4,
      "outputs": [
        {
          "output_type": "stream",
          "name": "stdout",
          "text": [
            "[[-0.4670712  -0.70384742]\n",
            " [ 0.04924033  0.80945133]\n",
            " [-0.14835946  0.84169802]\n",
            " ...\n",
            " [ 0.62095261 -0.45144505]\n",
            " [-0.97069044 -0.25982821]\n",
            " [-0.70537406  0.40849922]]\n"
          ]
        }
      ]
    },
    {
      "cell_type": "code",
      "source": [
        "import pandas as pd\n",
        "circles=pd.DataFrame({\"X1\":x[:,0],\"X2\":x[:,1],\"label\":y[:]})\n",
        "circles.head()"
      ],
      "metadata": {
        "colab": {
          "base_uri": "https://localhost:8080/",
          "height": 206
        },
        "id": "Qu8onO-A08yk",
        "outputId": "ba83dcd2-fbda-4b47-c577-f239d15f97bc"
      },
      "execution_count": 5,
      "outputs": [
        {
          "output_type": "execute_result",
          "data": {
            "text/plain": [
              "         X1        X2  label\n",
              "0 -0.467071 -0.703847      1\n",
              "1  0.049240  0.809451      1\n",
              "2 -0.148359  0.841698      1\n",
              "3  0.567739 -0.495415      1\n",
              "4 -0.439440 -0.702983      1"
            ],
            "text/html": [
              "\n",
              "  <div id=\"df-b270d080-5b70-4b5a-9b16-091fb3506c43\" class=\"colab-df-container\">\n",
              "    <div>\n",
              "<style scoped>\n",
              "    .dataframe tbody tr th:only-of-type {\n",
              "        vertical-align: middle;\n",
              "    }\n",
              "\n",
              "    .dataframe tbody tr th {\n",
              "        vertical-align: top;\n",
              "    }\n",
              "\n",
              "    .dataframe thead th {\n",
              "        text-align: right;\n",
              "    }\n",
              "</style>\n",
              "<table border=\"1\" class=\"dataframe\">\n",
              "  <thead>\n",
              "    <tr style=\"text-align: right;\">\n",
              "      <th></th>\n",
              "      <th>X1</th>\n",
              "      <th>X2</th>\n",
              "      <th>label</th>\n",
              "    </tr>\n",
              "  </thead>\n",
              "  <tbody>\n",
              "    <tr>\n",
              "      <th>0</th>\n",
              "      <td>-0.467071</td>\n",
              "      <td>-0.703847</td>\n",
              "      <td>1</td>\n",
              "    </tr>\n",
              "    <tr>\n",
              "      <th>1</th>\n",
              "      <td>0.049240</td>\n",
              "      <td>0.809451</td>\n",
              "      <td>1</td>\n",
              "    </tr>\n",
              "    <tr>\n",
              "      <th>2</th>\n",
              "      <td>-0.148359</td>\n",
              "      <td>0.841698</td>\n",
              "      <td>1</td>\n",
              "    </tr>\n",
              "    <tr>\n",
              "      <th>3</th>\n",
              "      <td>0.567739</td>\n",
              "      <td>-0.495415</td>\n",
              "      <td>1</td>\n",
              "    </tr>\n",
              "    <tr>\n",
              "      <th>4</th>\n",
              "      <td>-0.439440</td>\n",
              "      <td>-0.702983</td>\n",
              "      <td>1</td>\n",
              "    </tr>\n",
              "  </tbody>\n",
              "</table>\n",
              "</div>\n",
              "    <div class=\"colab-df-buttons\">\n",
              "\n",
              "  <div class=\"colab-df-container\">\n",
              "    <button class=\"colab-df-convert\" onclick=\"convertToInteractive('df-b270d080-5b70-4b5a-9b16-091fb3506c43')\"\n",
              "            title=\"Convert this dataframe to an interactive table.\"\n",
              "            style=\"display:none;\">\n",
              "\n",
              "  <svg xmlns=\"http://www.w3.org/2000/svg\" height=\"24px\" viewBox=\"0 -960 960 960\">\n",
              "    <path d=\"M120-120v-720h720v720H120Zm60-500h600v-160H180v160Zm220 220h160v-160H400v160Zm0 220h160v-160H400v160ZM180-400h160v-160H180v160Zm440 0h160v-160H620v160ZM180-180h160v-160H180v160Zm440 0h160v-160H620v160Z\"/>\n",
              "  </svg>\n",
              "    </button>\n",
              "\n",
              "  <style>\n",
              "    .colab-df-container {\n",
              "      display:flex;\n",
              "      gap: 12px;\n",
              "    }\n",
              "\n",
              "    .colab-df-convert {\n",
              "      background-color: #E8F0FE;\n",
              "      border: none;\n",
              "      border-radius: 50%;\n",
              "      cursor: pointer;\n",
              "      display: none;\n",
              "      fill: #1967D2;\n",
              "      height: 32px;\n",
              "      padding: 0 0 0 0;\n",
              "      width: 32px;\n",
              "    }\n",
              "\n",
              "    .colab-df-convert:hover {\n",
              "      background-color: #E2EBFA;\n",
              "      box-shadow: 0px 1px 2px rgba(60, 64, 67, 0.3), 0px 1px 3px 1px rgba(60, 64, 67, 0.15);\n",
              "      fill: #174EA6;\n",
              "    }\n",
              "\n",
              "    .colab-df-buttons div {\n",
              "      margin-bottom: 4px;\n",
              "    }\n",
              "\n",
              "    [theme=dark] .colab-df-convert {\n",
              "      background-color: #3B4455;\n",
              "      fill: #D2E3FC;\n",
              "    }\n",
              "\n",
              "    [theme=dark] .colab-df-convert:hover {\n",
              "      background-color: #434B5C;\n",
              "      box-shadow: 0px 1px 3px 1px rgba(0, 0, 0, 0.15);\n",
              "      filter: drop-shadow(0px 1px 2px rgba(0, 0, 0, 0.3));\n",
              "      fill: #FFFFFF;\n",
              "    }\n",
              "  </style>\n",
              "\n",
              "    <script>\n",
              "      const buttonEl =\n",
              "        document.querySelector('#df-b270d080-5b70-4b5a-9b16-091fb3506c43 button.colab-df-convert');\n",
              "      buttonEl.style.display =\n",
              "        google.colab.kernel.accessAllowed ? 'block' : 'none';\n",
              "\n",
              "      async function convertToInteractive(key) {\n",
              "        const element = document.querySelector('#df-b270d080-5b70-4b5a-9b16-091fb3506c43');\n",
              "        const dataTable =\n",
              "          await google.colab.kernel.invokeFunction('convertToInteractive',\n",
              "                                                    [key], {});\n",
              "        if (!dataTable) return;\n",
              "\n",
              "        const docLinkHtml = 'Like what you see? Visit the ' +\n",
              "          '<a target=\"_blank\" href=https://colab.research.google.com/notebooks/data_table.ipynb>data table notebook</a>'\n",
              "          + ' to learn more about interactive tables.';\n",
              "        element.innerHTML = '';\n",
              "        dataTable['output_type'] = 'display_data';\n",
              "        await google.colab.output.renderOutput(dataTable, element);\n",
              "        const docLink = document.createElement('div');\n",
              "        docLink.innerHTML = docLinkHtml;\n",
              "        element.appendChild(docLink);\n",
              "      }\n",
              "    </script>\n",
              "  </div>\n",
              "\n",
              "\n",
              "<div id=\"df-96ebe4c4-9679-4abc-acf9-5a24197071d4\">\n",
              "  <button class=\"colab-df-quickchart\" onclick=\"quickchart('df-96ebe4c4-9679-4abc-acf9-5a24197071d4')\"\n",
              "            title=\"Suggest charts\"\n",
              "            style=\"display:none;\">\n",
              "\n",
              "<svg xmlns=\"http://www.w3.org/2000/svg\" height=\"24px\"viewBox=\"0 0 24 24\"\n",
              "     width=\"24px\">\n",
              "    <g>\n",
              "        <path d=\"M19 3H5c-1.1 0-2 .9-2 2v14c0 1.1.9 2 2 2h14c1.1 0 2-.9 2-2V5c0-1.1-.9-2-2-2zM9 17H7v-7h2v7zm4 0h-2V7h2v10zm4 0h-2v-4h2v4z\"/>\n",
              "    </g>\n",
              "</svg>\n",
              "  </button>\n",
              "\n",
              "<style>\n",
              "  .colab-df-quickchart {\n",
              "      --bg-color: #E8F0FE;\n",
              "      --fill-color: #1967D2;\n",
              "      --hover-bg-color: #E2EBFA;\n",
              "      --hover-fill-color: #174EA6;\n",
              "      --disabled-fill-color: #AAA;\n",
              "      --disabled-bg-color: #DDD;\n",
              "  }\n",
              "\n",
              "  [theme=dark] .colab-df-quickchart {\n",
              "      --bg-color: #3B4455;\n",
              "      --fill-color: #D2E3FC;\n",
              "      --hover-bg-color: #434B5C;\n",
              "      --hover-fill-color: #FFFFFF;\n",
              "      --disabled-bg-color: #3B4455;\n",
              "      --disabled-fill-color: #666;\n",
              "  }\n",
              "\n",
              "  .colab-df-quickchart {\n",
              "    background-color: var(--bg-color);\n",
              "    border: none;\n",
              "    border-radius: 50%;\n",
              "    cursor: pointer;\n",
              "    display: none;\n",
              "    fill: var(--fill-color);\n",
              "    height: 32px;\n",
              "    padding: 0;\n",
              "    width: 32px;\n",
              "  }\n",
              "\n",
              "  .colab-df-quickchart:hover {\n",
              "    background-color: var(--hover-bg-color);\n",
              "    box-shadow: 0 1px 2px rgba(60, 64, 67, 0.3), 0 1px 3px 1px rgba(60, 64, 67, 0.15);\n",
              "    fill: var(--button-hover-fill-color);\n",
              "  }\n",
              "\n",
              "  .colab-df-quickchart-complete:disabled,\n",
              "  .colab-df-quickchart-complete:disabled:hover {\n",
              "    background-color: var(--disabled-bg-color);\n",
              "    fill: var(--disabled-fill-color);\n",
              "    box-shadow: none;\n",
              "  }\n",
              "\n",
              "  .colab-df-spinner {\n",
              "    border: 2px solid var(--fill-color);\n",
              "    border-color: transparent;\n",
              "    border-bottom-color: var(--fill-color);\n",
              "    animation:\n",
              "      spin 1s steps(1) infinite;\n",
              "  }\n",
              "\n",
              "  @keyframes spin {\n",
              "    0% {\n",
              "      border-color: transparent;\n",
              "      border-bottom-color: var(--fill-color);\n",
              "      border-left-color: var(--fill-color);\n",
              "    }\n",
              "    20% {\n",
              "      border-color: transparent;\n",
              "      border-left-color: var(--fill-color);\n",
              "      border-top-color: var(--fill-color);\n",
              "    }\n",
              "    30% {\n",
              "      border-color: transparent;\n",
              "      border-left-color: var(--fill-color);\n",
              "      border-top-color: var(--fill-color);\n",
              "      border-right-color: var(--fill-color);\n",
              "    }\n",
              "    40% {\n",
              "      border-color: transparent;\n",
              "      border-right-color: var(--fill-color);\n",
              "      border-top-color: var(--fill-color);\n",
              "    }\n",
              "    60% {\n",
              "      border-color: transparent;\n",
              "      border-right-color: var(--fill-color);\n",
              "    }\n",
              "    80% {\n",
              "      border-color: transparent;\n",
              "      border-right-color: var(--fill-color);\n",
              "      border-bottom-color: var(--fill-color);\n",
              "    }\n",
              "    90% {\n",
              "      border-color: transparent;\n",
              "      border-bottom-color: var(--fill-color);\n",
              "    }\n",
              "  }\n",
              "</style>\n",
              "\n",
              "  <script>\n",
              "    async function quickchart(key) {\n",
              "      const quickchartButtonEl =\n",
              "        document.querySelector('#' + key + ' button');\n",
              "      quickchartButtonEl.disabled = true;  // To prevent multiple clicks.\n",
              "      quickchartButtonEl.classList.add('colab-df-spinner');\n",
              "      try {\n",
              "        const charts = await google.colab.kernel.invokeFunction(\n",
              "            'suggestCharts', [key], {});\n",
              "      } catch (error) {\n",
              "        console.error('Error during call to suggestCharts:', error);\n",
              "      }\n",
              "      quickchartButtonEl.classList.remove('colab-df-spinner');\n",
              "      quickchartButtonEl.classList.add('colab-df-quickchart-complete');\n",
              "    }\n",
              "    (() => {\n",
              "      let quickchartButtonEl =\n",
              "        document.querySelector('#df-96ebe4c4-9679-4abc-acf9-5a24197071d4 button');\n",
              "      quickchartButtonEl.style.display =\n",
              "        google.colab.kernel.accessAllowed ? 'block' : 'none';\n",
              "    })();\n",
              "  </script>\n",
              "</div>\n",
              "\n",
              "    </div>\n",
              "  </div>\n"
            ],
            "application/vnd.google.colaboratory.intrinsic+json": {
              "type": "dataframe",
              "variable_name": "circles",
              "summary": "{\n  \"name\": \"circles\",\n  \"rows\": 1000,\n  \"fields\": [\n    {\n      \"column\": \"X1\",\n      \"properties\": {\n        \"dtype\": \"number\",\n        \"std\": 0.6408567291919409,\n        \"min\": -1.0623518982813753,\n        \"max\": 1.05771592904656,\n        \"num_unique_values\": 1000,\n        \"samples\": [\n          -0.738382120085037,\n          0.15998240372582306,\n          -0.7453610633770249\n        ],\n        \"semantic_type\": \"\",\n        \"description\": \"\"\n      }\n    },\n    {\n      \"column\": \"X2\",\n      \"properties\": {\n        \"dtype\": \"number\",\n        \"std\": 0.641010441544516,\n        \"min\": -1.051899030932158,\n        \"max\": 1.0858726805554495,\n        \"num_unique_values\": 1000,\n        \"samples\": [\n          -0.39434205459056515,\n          0.797496860798848,\n          -0.2588703102424432\n        ],\n        \"semantic_type\": \"\",\n        \"description\": \"\"\n      }\n    },\n    {\n      \"column\": \"label\",\n      \"properties\": {\n        \"dtype\": \"number\",\n        \"std\": 0,\n        \"min\": 0,\n        \"max\": 1,\n        \"num_unique_values\": 2,\n        \"samples\": [\n          0,\n          1\n        ],\n        \"semantic_type\": \"\",\n        \"description\": \"\"\n      }\n    }\n  ]\n}"
            }
          },
          "metadata": {},
          "execution_count": 5
        }
      ]
    },
    {
      "cell_type": "code",
      "source": [
        "import matplotlib.pyplot as plt\n",
        "plt.scatter(x=x[:,0],\n",
        "            y=x[:,1],\n",
        "            c=y,\n",
        "            cmap=plt.cm.RdYlBu)"
      ],
      "metadata": {
        "colab": {
          "base_uri": "https://localhost:8080/",
          "height": 448
        },
        "id": "DBpn80Jd08wt",
        "outputId": "3642f7f7-72b7-4739-8a49-d02de524a993"
      },
      "execution_count": 6,
      "outputs": [
        {
          "output_type": "execute_result",
          "data": {
            "text/plain": [
              "<matplotlib.collections.PathCollection at 0x7ae5afd126e0>"
            ]
          },
          "metadata": {},
          "execution_count": 6
        },
        {
          "output_type": "display_data",
          "data": {
            "text/plain": [
              "<Figure size 640x480 with 1 Axes>"
            ],
            "image/png": "[encoded data removed]"
          },
          "metadata": {}
        }
      ]
    },
    {
      "cell_type": "code",
      "source": [
        "## CHECK INPUT AND OUPUT SHAPES\n",
        "x.shape,y.shape"
      ],
      "metadata": {
        "colab": {
          "base_uri": "https://localhost:8080/"
        },
        "id": "vHQVqbrO08ua",
        "outputId": "4fb88228-5495-44cc-de96-0bae8368f2aa"
      },
      "execution_count": 7,
      "outputs": [
        {
          "output_type": "execute_result",
          "data": {
            "text/plain": [
              "((1000, 2), (1000,))"
            ]
          },
          "metadata": {},
          "execution_count": 7
        }
      ]
    },
    {
      "cell_type": "code",
      "source": [
        "import torch\n",
        "torch.__version__"
      ],
      "metadata": {
        "colab": {
          "base_uri": "https://localhost:8080/",
          "height": 35
        },
        "id": "6pob_g9K08sG",
        "outputId": "38ed3e95-1c81-458a-aebf-4cfdc747f9be"
      },
      "execution_count": 8,
      "outputs": [
        {
          "output_type": "execute_result",
          "data": {
            "text/plain": [
              "'2.5.1+cu121'"
            ],
            "application/vnd.google.colaboratory.intrinsic+json": {
              "type": "string"
            }
          },
          "metadata": {},
          "execution_count": 8
        }
      ]
    },
    {
      "cell_type": "code",
      "source": [
        "X=torch.from_numpy(x).type(torch.float)\n",
        "Y=torch.from_numpy(y).type(torch.float)"
      ],
      "metadata": {
        "id": "eeD-i4hU08p1"
      },
      "execution_count": 9,
      "outputs": []
    },
    {
      "cell_type": "code",
      "source": [
        "from sklearn.model_selection import train_test_split\n",
        "X_train,X_test,y_train,y_test=train_test_split(X,Y,random_state=42,test_size=0.2)"
      ],
      "metadata": {
        "id": "yciTukOp08nG"
      },
      "execution_count": 10,
      "outputs": []
    },
    {
      "cell_type": "code",
      "source": [
        "#BUILDING A MODEL\n",
        "device = \"cuda\" if torch.cuda.is_available() else \"cpu\"\n",
        "device"
      ],
      "metadata": {
        "colab": {
          "base_uri": "https://localhost:8080/",
          "height": 35
        },
        "id": "l4QDUTkR08kR",
        "outputId": "9f27fe86-cb17-4df9-d5cd-5401c8561ccb"
      },
      "execution_count": 11,
      "outputs": [
        {
          "output_type": "execute_result",
          "data": {
            "text/plain": [
              "'cuda'"
            ],
            "application/vnd.google.colaboratory.intrinsic+json": {
              "type": "string"
            }
          },
          "metadata": {},
          "execution_count": 11
        }
      ]
    },
    {
      "cell_type": "code",
      "source": [
        "import torch\n",
        "from torch import nn\n",
        "\n",
        "class CircleModelV0(nn.Module):\n",
        "  def __init__(self):\n",
        "    super().__init__()\n",
        "    self.layer_1=nn.Linear(in_features=2,out_features=5)\n",
        "    self.layers_2=nn.Linear(in_features=5,out_features=1)\n",
        "\n",
        "  def forward(self, x):\n",
        "        return self.layers_2(self.layer_1(x))\n",
        "\n",
        "model_0=CircleModelV0().to(device)\n",
        "model_0\n"
      ],
      "metadata": {
        "colab": {
          "base_uri": "https://localhost:8080/"
        },
        "id": "-aHfixXx08hn",
        "outputId": "46126888-50ff-4023-8cab-dfb965846667"
      },
      "execution_count": 12,
      "outputs": [
        {
          "output_type": "execute_result",
          "data": {
            "text/plain": [
              "CircleModelV0(\n",
              "  (layer_1): Linear(in_features=2, out_features=5, bias=True)\n",
              "  (layers_2): Linear(in_features=5, out_features=1, bias=True)\n",
              ")"
            ]
          },
          "metadata": {},
          "execution_count": 12
        }
      ]
    },
    {
      "cell_type": "code",
      "source": [
        "model=nn.Sequential(\n",
        "    nn.Linear(in_features=2,out_features=5),\n",
        "    nn.Linear(in_features=5,out_features=1)\n",
        ").to(device)\n",
        "model"
      ],
      "metadata": {
        "colab": {
          "base_uri": "https://localhost:8080/"
        },
        "id": "2QZa_eDZCI6W",
        "outputId": "182c280c-909d-4d3d-8f8c-7d1b0568cf60"
      },
      "execution_count": 13,
      "outputs": [
        {
          "output_type": "execute_result",
          "data": {
            "text/plain": [
              "Sequential(\n",
              "  (0): Linear(in_features=2, out_features=5, bias=True)\n",
              "  (1): Linear(in_features=5, out_features=1, bias=True)\n",
              ")"
            ]
          },
          "metadata": {},
          "execution_count": 13
        }
      ]
    },
    {
      "cell_type": "code",
      "source": [
        "model.state_dict()"
      ],
      "metadata": {
        "colab": {
          "base_uri": "https://localhost:8080/"
        },
        "id": "j9L4-vijCI4I",
        "outputId": "42b0da7b-230c-4447-fea7-026a3dc1147c"
      },
      "execution_count": 14,
      "outputs": [
        {
          "output_type": "execute_result",
          "data": {
            "text/plain": [
              "OrderedDict([('0.weight',\n",
              "              tensor([[-0.0537, -0.4454],\n",
              "                      [ 0.4460, -0.6875],\n",
              "                      [-0.3319, -0.6216],\n",
              "                      [-0.6895, -0.1227],\n",
              "                      [ 0.3940, -0.6405]], device='cuda:0')),\n",
              "             ('0.bias',\n",
              "              tensor([-0.3025, -0.2205,  0.1807,  0.2075,  0.6898], device='cuda:0')),\n",
              "             ('1.weight',\n",
              "              tensor([[ 0.1239, -0.1356, -0.3298,  0.3373, -0.1941]], device='cuda:0')),\n",
              "             ('1.bias', tensor([-0.1065], device='cuda:0'))])"
            ]
          },
          "metadata": {},
          "execution_count": 14
        }
      ]
    },
    {
      "cell_type": "code",
      "source": [
        "untrained_pred=model_0(X_test.to(device))\n",
        "print(f\"Length of predictions: {len(untrained_pred)}\")\n",
        "print(untrained_pred[:10])\n"
      ],
      "metadata": {
        "colab": {
          "base_uri": "https://localhost:8080/"
        },
        "id": "5SX1ECo6CI1O",
        "outputId": "a937f818-d8a4-4ee9-d43e-045ec97aa397"
      },
      "execution_count": 15,
      "outputs": [
        {
          "output_type": "stream",
          "name": "stdout",
          "text": [
            "Length of predictions: 200\n",
            "tensor([[-0.1488],\n",
            "        [-0.1386],\n",
            "        [-0.1451],\n",
            "        [-0.1390],\n",
            "        [-0.1341],\n",
            "        [-0.1843],\n",
            "        [-0.1722],\n",
            "        [-0.1897],\n",
            "        [-0.1326],\n",
            "        [-0.1527]], device='cuda:0', grad_fn=<SliceBackward0>)\n"
          ]
        }
      ]
    },
    {
      "cell_type": "code",
      "source": [
        "#SETTING UP THE TRAINING LOOP"
      ],
      "metadata": {
        "id": "jTyhFSuRCIyY"
      },
      "execution_count": 16,
      "outputs": []
    },
    {
      "cell_type": "code",
      "source": [
        "loss_fn=nn.BCEWithLogitsLoss()\n",
        "\n",
        "optimizer=torch.optim.SGD(params=model.parameters(),\n",
        "                          lr=0.1)"
      ],
      "metadata": {
        "id": "mTcP8wyECjdn"
      },
      "execution_count": 17,
      "outputs": []
    },
    {
      "cell_type": "code",
      "source": [
        "def accuracy_fn(y_true,y_pred):\n",
        "  correct=torch.eq(y_true,y_pred).sum().item()\n",
        "  acc=(correct/len(y_pred))*100\n",
        "  return acc"
      ],
      "metadata": {
        "id": "llVTqLuBCja7"
      },
      "execution_count": 18,
      "outputs": []
    },
    {
      "cell_type": "markdown",
      "source": [
        "TRAINING OUR MODEL\n",
        "\n",
        "forward pass\n",
        "\n",
        "calculate the loss\n",
        "\n",
        "optimizer zero grad\n",
        "\n",
        "loss backward(backpropagation)\n",
        "\n",
        "optimizer step(gradient descent)"
      ],
      "metadata": {
        "id": "C5ysY2vhECH6"
      }
    },
    {
      "cell_type": "code",
      "source": [
        "model.eval()\n",
        "with torch.inference_mode():\n",
        "  y_logits=model(X_test.to(device))[:5]\n",
        "y_logits\n"
      ],
      "metadata": {
        "colab": {
          "base_uri": "https://localhost:8080/"
        },
        "id": "hASCSo7TCjYe",
        "outputId": "36428656-7a94-480e-cc41-f395192f4ab7"
      },
      "execution_count": 19,
      "outputs": [
        {
          "output_type": "execute_result",
          "data": {
            "text/plain": [
              "tensor([[-0.1692],\n",
              "        [-0.0203],\n",
              "        [-0.1232],\n",
              "        [-0.0196],\n",
              "        [ 0.0160]], device='cuda:0')"
            ]
          },
          "metadata": {},
          "execution_count": 19
        }
      ]
    },
    {
      "cell_type": "code",
      "source": [
        "y_pred_prob=torch.sigmoid(y_logits)\n",
        "\n",
        "y_pred_prob\n",
        "\n",
        "y_pred=torch.round(y_pred_prob)\n",
        "\n",
        "y_pred_labels=torch.round(torch.sigmoid(model(X_test.to(device))[:5]))\n",
        "\n",
        "print(torch.eq(y_pred.squeeze(),y_pred_labels.squeeze()))\n",
        "\n",
        "y_pred.squeeze()"
      ],
      "metadata": {
        "colab": {
          "base_uri": "https://localhost:8080/"
        },
        "id": "nLqM-SqVCjV9",
        "outputId": "8bfb081a-957b-4586-cb2e-575a4e8af94c"
      },
      "execution_count": 20,
      "outputs": [
        {
          "output_type": "stream",
          "name": "stdout",
          "text": [
            "tensor([True, True, True, True, True], device='cuda:0')\n"
          ]
        },
        {
          "output_type": "execute_result",
          "data": {
            "text/plain": [
              "tensor([0., 0., 0., 0., 1.], device='cuda:0')"
            ]
          },
          "metadata": {},
          "execution_count": 20
        }
      ]
    },
    {
      "cell_type": "code",
      "source": [
        "#building a training and test loop\n",
        "torch.manual_seed(42)\n",
        "\n",
        "epochs=100\n",
        "X_train,X_test=X_train.to(device),X_test.to(device)\n",
        "y_train,y_test=y_train.to(device),y_test.to(device)\n",
        "\n",
        "for epoch in range(epochs):\n",
        "  ##TRAINING\n",
        "  model.train()\n",
        "  # FORWARD PASS\n",
        "  y_logits=model(X_train).squeeze()\n",
        "  y_pred=torch.round(torch.sigmoid(y_logits))\n",
        "\n",
        "  #CALCULATE THE LOSS AND ACCURACY\n",
        "  loss=loss_fn(y_logits,\n",
        "               y_train)\n",
        "\n",
        "  acc=accuracy_fn(y_true=y_train,\n",
        "                  y_pred=y_pred)\n",
        "\n",
        "  optimizer.zero_grad()\n",
        "\n",
        "  loss.backward()\n",
        "\n",
        "  optimizer.step()\n",
        "\n",
        "  model.eval()\n",
        "  with torch.inference_mode():\n",
        "    test_logits=model_0(X_test).squeeze()\n",
        "    test_pred=torch.round(torch.sigmoid(test_logits))\n",
        "\n",
        "    test_loss=loss_fn(test_logits,\n",
        "                      y_test)\n",
        "    test_acc=accuracy_fn(y_pred=test_pred,\n",
        "                         y_true=y_test)\n",
        "\n",
        "    if epoch%10==0:\n",
        "      print(f\"Epoch: {epoch}| Loss: {loss} | Acc: {acc} | Test_loss:{test_loss} | test_acc: {test_acc}\")"
      ],
      "metadata": {
        "colab": {
          "base_uri": "https://localhost:8080/"
        },
        "id": "bN6AEoIrCjTn",
        "outputId": "3b3f9280-37fb-408d-c0fc-3f06a374703e"
      },
      "execution_count": 22,
      "outputs": [
        {
          "output_type": "stream",
          "name": "stdout",
          "text": [
            "Epoch: 0| Loss: 0.6933643817901611 | Acc: 50.74999999999999 | Test_loss:0.6940793991088867 | test_acc: 51.5\n",
            "Epoch: 10| Loss: 0.6932674050331116 | Acc: 50.875 | Test_loss:0.6940793991088867 | test_acc: 51.5\n",
            "Epoch: 20| Loss: 0.6931926012039185 | Acc: 51.125 | Test_loss:0.6940793991088867 | test_acc: 51.5\n",
            "Epoch: 30| Loss: 0.6931345462799072 | Acc: 51.0 | Test_loss:0.6940793991088867 | test_acc: 51.5\n",
            "Epoch: 40| Loss: 0.6930891871452332 | Acc: 51.5 | Test_loss:0.6940793991088867 | test_acc: 51.5\n",
            "Epoch: 50| Loss: 0.6930536031723022 | Acc: 51.625 | Test_loss:0.6940793991088867 | test_acc: 51.5\n",
            "Epoch: 60| Loss: 0.6930255889892578 | Acc: 51.37500000000001 | Test_loss:0.6940793991088867 | test_acc: 51.5\n",
            "Epoch: 70| Loss: 0.6930033564567566 | Acc: 51.37500000000001 | Test_loss:0.6940793991088867 | test_acc: 51.5\n",
            "Epoch: 80| Loss: 0.6929858326911926 | Acc: 51.125 | Test_loss:0.6940793991088867 | test_acc: 51.5\n",
            "Epoch: 90| Loss: 0.6929717659950256 | Acc: 51.5 | Test_loss:0.6940793991088867 | test_acc: 51.5\n"
          ]
        }
      ]
    },
    {
      "cell_type": "markdown",
      "source": [
        "CREATING A LARGER MODEL"
      ],
      "metadata": {
        "id": "qKMwmsSYNupR"
      }
    },
    {
      "cell_type": "code",
      "source": [
        "class CircleModelV1(nn.Module):\n",
        "  def __init__(self):\n",
        "    super().__init__()\n",
        "    self.layer_1=nn.Linear(in_features=2,out_features=10)\n",
        "    self.layer_2=nn.Linear(in_features=10,out_features=10)\n",
        "    self.layer_3=nn.Linear(in_features=10,out_features=10)\n",
        "    self.layer_4=nn.Linear(in_features=10,out_features=1)\n",
        "\n",
        "  def forward(self,x):\n",
        "    z=self.layer_1(x)\n",
        "    z=self.layer_2(z)\n",
        "    z=self.layer_3(z)\n",
        "    z=self.layer_4(z)\n",
        "    return z\n",
        "model_1=CircleModelV1().to(device)\n",
        "model_1\n",
        "\n",
        "\n"
      ],
      "metadata": {
        "colab": {
          "base_uri": "https://localhost:8080/"
        },
        "id": "8vRIyyfbCjRC",
        "outputId": "70e140c9-c073-4268-9f70-e29d6eb756dd"
      },
      "execution_count": 25,
      "outputs": [
        {
          "output_type": "execute_result",
          "data": {
            "text/plain": [
              "CircleModelV1(\n",
              "  (layer_1): Linear(in_features=2, out_features=10, bias=True)\n",
              "  (layer_2): Linear(in_features=10, out_features=10, bias=True)\n",
              "  (layer_3): Linear(in_features=10, out_features=10, bias=True)\n",
              "  (layer_4): Linear(in_features=10, out_features=1, bias=True)\n",
              ")"
            ]
          },
          "metadata": {},
          "execution_count": 25
        }
      ]
    },
    {
      "cell_type": "code",
      "source": [
        "loss_fn=nn.BCEWithLogitsLoss()\n",
        "\n",
        "optimizer=torch.optim.SGD(params=model_1.parameters(),\n",
        "                          lr=0.1)"
      ],
      "metadata": {
        "id": "WFAIKTzdCjOz"
      },
      "execution_count": 26,
      "outputs": []
    },
    {
      "cell_type": "code",
      "source": [
        "torch.manual_seed(77)\n",
        "epochs=1000\n",
        "\n",
        "X_train,X_test=X_train.to(device),X_test.to(device)\n",
        "y_train,y_test=y_train.to(device),y_test.to(device)\n",
        "\n",
        "\n",
        "for epoch in range(epochs):\n",
        "  model_1.train()\n",
        "\n",
        "  y_logits=model_1(X_train).squeeze()\n",
        "  y_pred=torch.round(torch.sigmoid(y_logits))\n",
        "\n",
        "  loss=loss_fn(y_logits,y_train)\n",
        "  acc=accuracy_fn(y_true=y_train,\n",
        "                  y_pred=y_pred)\n",
        "\n",
        "  optimizer.zero_grad()\n",
        "\n",
        "  loss.backward()\n",
        "\n",
        "  optimizer.step()\n",
        "\n",
        "  model_1.eval()\n",
        "  with torch.inference_mode():\n",
        "    test_logits=model_1(X_test).squeeze()\n",
        "    test_pred=torch.round(torch.sigmoid(test_logits))\n",
        "    test_loss=loss_fn(test_logits,y_test)\n",
        "    test_acc=accuracy_fn(y_true=y_test,\n",
        "                         y_pred=test_pred)\n",
        "\n",
        "  if epoch%100==0:\n",
        "    print(f\"EPOCH: {epoch} | LOSS:{loss} | ACC:{acc} | TESTLOSS: {test_loss} | TESTACC:{test_acc}\")\n"
      ],
      "metadata": {
        "colab": {
          "base_uri": "https://localhost:8080/"
        },
        "id": "6saFwbiqCjMe",
        "outputId": "bc6c644b-9ca0-43ec-dfbf-67bdc7bbcab3"
      },
      "execution_count": 31,
      "outputs": [
        {
          "output_type": "stream",
          "name": "stdout",
          "text": [
            "EPOCH: 0 | LOSS:0.7094042897224426 | ACC:50.375 | TESTLOSS: 0.7128247022628784 | TESTACC:48.5\n",
            "EPOCH: 100 | LOSS:0.6932899355888367 | ACC:50.875 | TESTLOSS: 0.6934703588485718 | TESTACC:52.5\n",
            "EPOCH: 200 | LOSS:0.6930776834487915 | ACC:52.87500000000001 | TESTLOSS: 0.6939146518707275 | TESTACC:48.5\n",
            "EPOCH: 300 | LOSS:0.6929875612258911 | ACC:53.25 | TESTLOSS: 0.6942917704582214 | TESTACC:47.5\n",
            "EPOCH: 400 | LOSS:0.6929471492767334 | ACC:52.87500000000001 | TESTLOSS: 0.6945743560791016 | TESTACC:46.0\n",
            "EPOCH: 500 | LOSS:0.6929289102554321 | ACC:52.87500000000001 | TESTLOSS: 0.6947790384292603 | TESTACC:44.0\n",
            "EPOCH: 600 | LOSS:0.6929206848144531 | ACC:52.625 | TESTLOSS: 0.6949234008789062 | TESTACC:44.5\n",
            "EPOCH: 700 | LOSS:0.692916989326477 | ACC:52.625 | TESTLOSS: 0.695023238658905 | TESTACC:44.5\n",
            "EPOCH: 800 | LOSS:0.6929153800010681 | ACC:52.125 | TESTLOSS: 0.6950913667678833 | TESTACC:44.5\n",
            "EPOCH: 900 | LOSS:0.6929146647453308 | ACC:52.37500000000001 | TESTLOSS: 0.6951374411582947 | TESTACC:45.5\n"
          ]
        }
      ]
    },
    {
      "cell_type": "markdown",
      "source": [
        "CREATING AN ACTUAL NON LINEAR MODEL"
      ],
      "metadata": {
        "id": "3l_8aJLVUFVP"
      }
    },
    {
      "cell_type": "code",
      "source": [
        "import torch\n",
        "import torch.nn as nn\n",
        "\n",
        "class CircleModelV2(nn.Module):\n",
        "    def __init__(self):\n",
        "        super().__init__()\n",
        "        self.layer_1 = nn.Linear(in_features=2, out_features=10)\n",
        "        self.layer_2 = nn.Linear(in_features=10, out_features=10)\n",
        "        self.layer_3 = nn.Linear(in_features=10, out_features=10)\n",
        "        self.layer_4 = nn.Linear(in_features=10, out_features=1)\n",
        "        self.relu = nn.ReLU()\n",
        "\n",
        "    def forward(self, x):\n",
        "        x = self.relu(self.layer_1(x))\n",
        "        x = self.relu(self.layer_2(x))\n",
        "        x = self.relu(self.layer_3(x))\n",
        "        x = self.layer_4(x)\n",
        "        return x\n",
        "\n",
        "# Move the model to the desired device\n",
        "device = torch.device('cuda' if torch.cuda.is_available() else 'cpu')\n",
        "model_3 = CircleModelV2().to(device)\n",
        "print(model_3)"
      ],
      "metadata": {
        "colab": {
          "base_uri": "https://localhost:8080/"
        },
        "id": "uRnDI-mSCjJt",
        "outputId": "4c01c6af-0fff-4f3c-add3-87102f51a24a"
      },
      "execution_count": 41,
      "outputs": [
        {
          "output_type": "stream",
          "name": "stdout",
          "text": [
            "CircleModelV2(\n",
            "  (layer_1): Linear(in_features=2, out_features=10, bias=True)\n",
            "  (layer_2): Linear(in_features=10, out_features=10, bias=True)\n",
            "  (layer_3): Linear(in_features=10, out_features=10, bias=True)\n",
            "  (layer_4): Linear(in_features=10, out_features=1, bias=True)\n",
            "  (relu): ReLU()\n",
            ")\n"
          ]
        }
      ]
    },
    {
      "cell_type": "code",
      "source": [
        "loss_fn=nn.BCEWithLogitsLoss()\n",
        "optimizer=torch.optim.SGD(model_3.parameters(),lr=0.1)"
      ],
      "metadata": {
        "id": "N43YfVi7CjHM"
      },
      "execution_count": 42,
      "outputs": []
    },
    {
      "cell_type": "code",
      "source": [
        "torch.manual_seed(77)\n",
        "epochs=1000\n",
        "\n",
        "X_train,X_test=X_train.to(device),X_test.to(device)\n",
        "y_train,y_test=y_train.to(device),y_test.to(device)\n",
        "\n",
        "\n",
        "for epoch in range(epochs):\n",
        "  model_3.train()\n",
        "\n",
        "  y_logits=model_3(X_train).squeeze()\n",
        "  y_pred=torch.round(torch.sigmoid(y_logits))\n",
        "\n",
        "  loss=loss_fn(y_logits,y_train)\n",
        "  acc=accuracy_fn(y_true=y_train,\n",
        "                  y_pred=y_pred)\n",
        "\n",
        "  optimizer.zero_grad()\n",
        "\n",
        "  loss.backward()\n",
        "\n",
        "  optimizer.step()\n",
        "\n",
        "  model_3.eval()\n",
        "  with torch.inference_mode():\n",
        "    test_logits=model_3(X_test).squeeze()\n",
        "    test_pred=torch.round(torch.sigmoid(test_logits))\n",
        "    test_loss=loss_fn(test_logits,y_test)\n",
        "    test_acc=accuracy_fn(y_true=y_test,\n",
        "                         y_pred=test_pred)\n",
        "\n",
        "  if epoch%100==0:\n",
        "    print(f\"EPOCH: {epoch} | LOSS:{loss} | ACC:{acc} | TESTLOSS: {test_loss} | TESTACC:{test_acc}\")\n"
      ],
      "metadata": {
        "colab": {
          "base_uri": "https://localhost:8080/"
        },
        "id": "_mUPjEUQCjEp",
        "outputId": "59980e49-0c3e-423c-9589-df2f4d208be7"
      },
      "execution_count": 43,
      "outputs": [
        {
          "output_type": "stream",
          "name": "stdout",
          "text": [
            "EPOCH: 0 | LOSS:0.7106653451919556 | ACC:49.625 | TESTLOSS: 0.7031319737434387 | TESTACC:51.5\n",
            "EPOCH: 100 | LOSS:0.6919329166412354 | ACC:57.875 | TESTLOSS: 0.6928150653839111 | TESTACC:54.50000000000001\n",
            "EPOCH: 200 | LOSS:0.6910194754600525 | ACC:68.375 | TESTLOSS: 0.6922436356544495 | TESTACC:68.0\n",
            "EPOCH: 300 | LOSS:0.6899171471595764 | ACC:67.0 | TESTLOSS: 0.69147789478302 | TESTACC:61.5\n",
            "EPOCH: 400 | LOSS:0.6883057951927185 | ACC:62.25000000000001 | TESTLOSS: 0.690417468547821 | TESTACC:57.99999999999999\n",
            "EPOCH: 500 | LOSS:0.6857869029045105 | ACC:63.375 | TESTLOSS: 0.6888105869293213 | TESTACC:59.5\n",
            "EPOCH: 600 | LOSS:0.6819475889205933 | ACC:66.625 | TESTLOSS: 0.6858994960784912 | TESTACC:65.0\n",
            "EPOCH: 700 | LOSS:0.6753156185150146 | ACC:66.25 | TESTLOSS: 0.6802474856376648 | TESTACC:64.0\n",
            "EPOCH: 800 | LOSS:0.6615815758705139 | ACC:61.0 | TESTLOSS: 0.6676128506660461 | TESTACC:60.5\n",
            "EPOCH: 900 | LOSS:0.6144885420799255 | ACC:74.875 | TESTLOSS: 0.617389976978302 | TESTACC:74.5\n"
          ]
        }
      ]
    },
    {
      "cell_type": "code",
      "source": [],
      "metadata": {
        "id": "G-25bGFECIvg"
      },
      "execution_count": 43,
      "outputs": []
    },
    {
      "cell_type": "code",
      "source": [],
      "metadata": {
        "id": "y3Ck8JBcCIsn"
      },
      "execution_count": null,
      "outputs": []
    },
    {
      "cell_type": "code",
      "source": [],
      "metadata": {
        "id": "Bp2hL2vZCIpi"
      },
      "execution_count": null,
      "outputs": []
    },
    {
      "cell_type": "code",
      "source": [],
      "metadata": {
        "id": "InRzPL4PCImv"
      },
      "execution_count": null,
      "outputs": []
    },
    {
      "cell_type": "code",
      "source": [],
      "metadata": {
        "id": "cZjely_SCIj2"
      },
      "execution_count": null,
      "outputs": []
    },
    {
      "cell_type": "code",
      "source": [],
      "metadata": {
        "id": "pUMZdt5dCIg0"
      },
      "execution_count": null,
      "outputs": []
    },
    {
      "cell_type": "code",
      "source": [],
      "metadata": {
        "id": "g73GExliCId8"
      },
      "execution_count": null,
      "outputs": []
    }
  ]
}